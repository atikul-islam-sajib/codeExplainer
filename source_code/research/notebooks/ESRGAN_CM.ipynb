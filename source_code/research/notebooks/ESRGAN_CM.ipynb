{
  "nbformat": 4,
  "nbformat_minor": 0,
  "metadata": {
    "colab": {
      "provenance": [],
      "gpuType": "T4"
    },
    "kernelspec": {
      "name": "python3",
      "display_name": "Python 3"
    },
    "language_info": {
      "name": "python"
    },
    "accelerator": "GPU"
  },
  "cells": [
    {
      "cell_type": "code",
      "execution_count": 21,
      "metadata": {
        "id": "SjbqLBDdGc1J"
      },
      "outputs": [],
      "source": [
        "!git clone https://github.com/atikul-islam-sajib/ESRGAN.git"
      ]
    },
    {
      "cell_type": "code",
      "source": [
        "%cd /content/ESRGAN/"
      ],
      "metadata": {
        "colab": {
          "base_uri": "https://localhost:8080/"
        },
        "id": "6RPP4O_eGmre",
        "outputId": "a0c46a43-3693-4c53-a932-778f38ac7be3"
      },
      "execution_count": 22,
      "outputs": [
        {
          "output_type": "stream",
          "name": "stdout",
          "text": [
            "/content/ESRGAN\n"
          ]
        }
      ]
    },
    {
      "cell_type": "code",
      "source": [
        "!ls"
      ],
      "metadata": {
        "id": "cjLEAScRNFyG"
      },
      "execution_count": 23,
      "outputs": []
    },
    {
      "cell_type": "code",
      "source": [
        "!pip install -r /content/ESRGAN/requirements.txt"
      ],
      "metadata": {
        "id": "2Lhndv6QGtUu"
      },
      "execution_count": 21,
      "outputs": []
    },
    {
      "cell_type": "code",
      "source": [
        "from src.dataloader import Loader\n",
        "from src.trainer import Trainer\n",
        "from src.tester import Tester"
      ],
      "metadata": {
        "id": "-K5jbqtvLcPL"
      },
      "execution_count": 17,
      "outputs": []
    },
    {
      "cell_type": "code",
      "source": [
        "loader = Loader(\n",
        "    image_path = \"/content/ESRGAN/data/raw/dataset.zip\",\n",
        "    image_size = 64,\n",
        "    split_size = 0.40,\n",
        "    batch_size = 1\n",
        ")\n",
        "\n",
        "loader.unzip_folder()\n",
        "loader.create_dataloader()"
      ],
      "metadata": {
        "id": "mxV7zw8bMFk_"
      },
      "execution_count": 21,
      "outputs": []
    },
    {
      "cell_type": "code",
      "source": [
        "trainer = Trainer(\n",
        "    epochs = 2,\n",
        "    lr = 0.0002,\n",
        "    beta1 = 0.5,\n",
        "    beta2 = 0.999,\n",
        "    adam = True,\n",
        "    SGD = False,\n",
        "    momentum = 0.9,\n",
        "    device = \"cuda\"\n",
        ")\n",
        "\n",
        "trainer.train()"
      ],
      "metadata": {
        "id": "z_eY5zq8MaUW"
      },
      "execution_count": null,
      "outputs": []
    },
    {
      "cell_type": "code",
      "source": [
        "tester = Tester(device = \"cuda\")\n",
        "\n",
        "tester.test()"
      ],
      "metadata": {
        "id": "5W-Ka72JMw0R"
      },
      "execution_count": 21,
      "outputs": []
    }
  ]
}