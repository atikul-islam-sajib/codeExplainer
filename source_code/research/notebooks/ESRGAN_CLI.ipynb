{
  "nbformat": 4,
  "nbformat_minor": 0,
  "metadata": {
    "colab": {
      "provenance": [],
      "gpuType": "T4"
    },
    "kernelspec": {
      "name": "python3",
      "display_name": "Python 3"
    },
    "language_info": {
      "name": "python"
    },
    "accelerator": "GPU"
  },
  "cells": [
    {
      "cell_type": "code",
      "execution_count": 21,
      "metadata": {
        "id": "SjbqLBDdGc1J"
      },
      "outputs": [],
      "source": [
        "!git clone https://github.com/atikul-islam-sajib/ESRGAN.git"
      ]
    },
    {
      "cell_type": "code",
      "source": [
        "%cd /content/ESRGAN/"
      ],
      "metadata": {
        "id": "6RPP4O_eGmre"
      },
      "execution_count": 21,
      "outputs": []
    },
    {
      "cell_type": "code",
      "source": [
        "!pip install -r /content/ESRGAN/requirements.txt"
      ],
      "metadata": {
        "id": "2Lhndv6QGtUu"
      },
      "execution_count": 21,
      "outputs": []
    },
    {
      "cell_type": "code",
      "source": [
        "!python /content/ESRGAN/src/cli.py --help"
      ],
      "metadata": {
        "id": "zKRmeJ_3Gw-k"
      },
      "execution_count": 21,
      "outputs": []
    },
    {
      "cell_type": "code",
      "source": [
        "%cat /content/ESRGAN/config.yml"
      ],
      "metadata": {
        "id": "IpE1GDTWHM2K"
      },
      "execution_count": 21,
      "outputs": []
    },
    {
      "cell_type": "code",
      "source": [
        "!python /content/ESRGAN/src/cli.py --train"
      ],
      "metadata": {
        "id": "iutXlz8VG7lW"
      },
      "execution_count": 21,
      "outputs": []
    },
    {
      "cell_type": "code",
      "source": [
        "!python /content/ESRGAN/src/cli.py --test"
      ],
      "metadata": {
        "id": "IxgM-PWiIuJE"
      },
      "execution_count": 21,
      "outputs": []
    },
    {
      "cell_type": "code",
      "source": [
        "from IPython.display import Image\n",
        "\n",
        "Image(\"/content/ESRGAN/outputs/test_images/images.png\")"
      ],
      "metadata": {
        "id": "4n_brGt6JBmn"
      },
      "execution_count": 21,
      "outputs": []
    }
  ]
}